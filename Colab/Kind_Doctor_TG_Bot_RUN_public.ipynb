{
  "cells": [
    {
      "cell_type": "code",
      "execution_count": null,
      "metadata": {
        "colab": {
          "base_uri": "https://localhost:8080/",
          "height": 75
        },
        "id": "_AHqrjY1xsum",
        "outputId": "f519f0bc-4eda-4498-f89a-db5068970a00"
      },
      "outputs": [
        {
          "output_type": "display_data",
          "data": {
            "text/plain": [
              "<IPython.core.display.HTML object>"
            ],
            "text/html": [
              "<audio src=\"https://oobabooga.github.io/silence.m4a\" controls>\n"
            ]
          },
          "metadata": {}
        }
      ],
      "source": [
        "#@title Сохраняйте эту ячеку активной, чтобы Colab не отключил вас. { display-mode: \"form\" }\n",
        "\n",
        "#@markdown Нажмите кнопку воспроизведения на музыкальном проигрывателе, который появится ниже.:\n",
        "%%html\n",
        "<audio src=\"https://oobabooga.github.io/silence.m4a\" controls>"
      ]
    },
    {
      "cell_type": "code",
      "execution_count": null,
      "metadata": {
        "id": "sX3ZyYb_Kc9C"
      },
      "outputs": [],
      "source": [
        "# Телеграмм бот\n",
        "# Установка библиотек\n",
        "!pip install openai==1.33.0\n",
        "!pip install loguru==0.7.2\n",
        "!pip install langchain==0.2.3\n",
        "!pip install langchain_openai==0.1.8\n",
        "!pip install langchain-community==0.2.4\n",
        "!pip install faiss-cpu==1.7.4\n",
        "!pip install python-telegram-bot==20.7\n",
        "!pip install python-dotenv==1.0.0\n",
        "# Устанавливаем исходники с GIT-a\n",
        "!git clone https://github.com/kvoloshenko/Kind_Doctor_TG_Bot_01.git"
      ]
    },
    {
      "cell_type": "code",
      "source": [
        "# Установить файл .env в каталог /content/Kind_Doctor_TG_Bot_01/Python\n",
        "%cd /content/Kind_Doctor_TG_Bot_01/Python\n",
        "way = '/content/Kind_Doctor_TG_Bot_01/Python'\n",
        "app_file = '''\n",
        "TOKEN = '???'\n",
        "API_KEY = 'sk-???'\n",
        "'''\n",
        "with open(way+'/.env', 'w') as file:\n",
        "    file.write(app_file)"
      ],
      "metadata": {
        "id": "OFP541o6K49D"
      },
      "execution_count": null,
      "outputs": []
    },
    {
      "cell_type": "code",
      "source": [
        "# Переходим в папку бота\n",
        "%cd /content/Kind_Doctor_TG_Bot_01/Python\n",
        "# Запускаем TG ботa\n",
        "!python /content/Kind_Doctor_TG_Bot_01/Python/main.py"
      ],
      "metadata": {
        "id": "OYivF797KwHM"
      },
      "execution_count": null,
      "outputs": []
    }
  ],
  "metadata": {
    "colab": {
      "provenance": []
    },
    "kernelspec": {
      "display_name": "Python 3",
      "name": "python3"
    },
    "language_info": {
      "name": "python"
    }
  },
  "nbformat": 4,
  "nbformat_minor": 0
}