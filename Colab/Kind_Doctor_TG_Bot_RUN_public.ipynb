{
  "cells": [
    {
      "cell_type": "code",
      "execution_count": 1,
      "metadata": {
        "colab": {
          "base_uri": "https://localhost:8080/",
          "height": 75
        },
        "id": "_AHqrjY1xsum",
        "outputId": "79b55ce1-ab10-4a81-dce1-5dbfe2313692"
      },
      "outputs": [
        {
          "output_type": "display_data",
          "data": {
            "text/plain": [
              "<IPython.core.display.HTML object>"
            ],
            "text/html": [
              "<audio src=\"https://oobabooga.github.io/silence.m4a\" controls>\n"
            ]
          },
          "metadata": {}
        }
      ],
      "source": [
        "#@title Сохраняйте эту ячеку активной, чтобы Colab не отключил вас. { display-mode: \"form\" }\n",
        "\n",
        "#@markdown Нажмите кнопку воспроизведения на музыкальном проигрывателе, который появится ниже.:\n",
        "%%html\n",
        "<audio src=\"https://oobabooga.github.io/silence.m4a\" controls>"
      ]
    },
    {
      "cell_type": "code",
      "execution_count": null,
      "metadata": {
        "id": "sX3ZyYb_Kc9C"
      },
      "outputs": [],
      "source": [
        "# Телеграмм бот\n",
        "# Установка библиотек\n",
        "!pip install openai\n",
        "# !pip install --upgrade tiktoken\n",
        "!pip install loguru\n",
        "!pip install langchain\n",
        "!pip install langchain_openai\n",
        "!pip install langchain-community\n",
        "!pip install langchain faiss-cpu\n",
        "!pip install python-telegram-bot\n",
        "!pip install load_dotenv\n",
        "# Устанавливаем исходники с GIT-a\n",
        "!git clone https://github.com/kvoloshenko/Kind_Doctor_TG_Bot_01.git"
      ]
    },
    {
      "cell_type": "code",
      "source": [
        "# Установить файл .env в каталог /content/Kind_Doctor_TG_Bot_01/Python"
      ],
      "metadata": {
        "id": "OFP541o6K49D"
      },
      "execution_count": null,
      "outputs": []
    },
    {
      "cell_type": "code",
      "source": [
        "# Переходим в папку бота\n",
        "%cd /content/Kind_Doctor_TG_Bot_01/Python\n",
        "# Запускаем TG ботa\n",
        "!python /content/Kind_Doctor_TG_Bot_01/Python/main.py"
      ],
      "metadata": {
        "id": "OYivF797KwHM"
      },
      "execution_count": null,
      "outputs": []
    }
  ],
  "metadata": {
    "colab": {
      "provenance": []
    },
    "kernelspec": {
      "display_name": "Python 3",
      "name": "python3"
    },
    "language_info": {
      "name": "python"
    }
  },
  "nbformat": 4,
  "nbformat_minor": 0
}